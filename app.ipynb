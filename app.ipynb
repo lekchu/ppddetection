{
  "nbformat": 4,
  "nbformat_minor": 0,
  "metadata": {
    "colab": {
      "provenance": []
    },
    "kernelspec": {
      "name": "python3",
      "display_name": "Python 3"
    },
    "language_info": {
      "name": "python"
    }
  },
  "cells": [
    {
      "cell_type": "code",
      "source": [
        "pip install streamlit"
      ],
      "metadata": {
        "colab": {
          "base_uri": "https://localhost:8080/"
        },
        "id": "GJ-8EBO1ZHor",
        "outputId": "226bb70e-05ac-44e9-b4ce-689e33cf12c4"
      },
      "execution_count": 1,
      "outputs": [
        {
          "output_type": "stream",
          "name": "stdout",
          "text": [
            "Collecting streamlit\n",
            "  Downloading streamlit-1.45.1-py3-none-any.whl.metadata (8.9 kB)\n",
            "Requirement already satisfied: altair<6,>=4.0 in /usr/local/lib/python3.11/dist-packages (from streamlit) (5.5.0)\n",
            "Requirement already satisfied: blinker<2,>=1.5.0 in /usr/local/lib/python3.11/dist-packages (from streamlit) (1.9.0)\n",
            "Requirement already satisfied: cachetools<6,>=4.0 in /usr/local/lib/python3.11/dist-packages (from streamlit) (5.5.2)\n",
            "Requirement already satisfied: click<9,>=7.0 in /usr/local/lib/python3.11/dist-packages (from streamlit) (8.2.1)\n",
            "Requirement already satisfied: numpy<3,>=1.23 in /usr/local/lib/python3.11/dist-packages (from streamlit) (2.0.2)\n",
            "Requirement already satisfied: packaging<25,>=20 in /usr/local/lib/python3.11/dist-packages (from streamlit) (24.2)\n",
            "Requirement already satisfied: pandas<3,>=1.4.0 in /usr/local/lib/python3.11/dist-packages (from streamlit) (2.2.2)\n",
            "Requirement already satisfied: pillow<12,>=7.1.0 in /usr/local/lib/python3.11/dist-packages (from streamlit) (11.2.1)\n",
            "Requirement already satisfied: protobuf<7,>=3.20 in /usr/local/lib/python3.11/dist-packages (from streamlit) (5.29.4)\n",
            "Requirement already satisfied: pyarrow>=7.0 in /usr/local/lib/python3.11/dist-packages (from streamlit) (18.1.0)\n",
            "Requirement already satisfied: requests<3,>=2.27 in /usr/local/lib/python3.11/dist-packages (from streamlit) (2.32.3)\n",
            "Requirement already satisfied: tenacity<10,>=8.1.0 in /usr/local/lib/python3.11/dist-packages (from streamlit) (9.1.2)\n",
            "Requirement already satisfied: toml<2,>=0.10.1 in /usr/local/lib/python3.11/dist-packages (from streamlit) (0.10.2)\n",
            "Requirement already satisfied: typing-extensions<5,>=4.4.0 in /usr/local/lib/python3.11/dist-packages (from streamlit) (4.13.2)\n",
            "Collecting watchdog<7,>=2.1.5 (from streamlit)\n",
            "  Downloading watchdog-6.0.0-py3-none-manylinux2014_x86_64.whl.metadata (44 kB)\n",
            "\u001b[2K     \u001b[90m━━━━━━━━━━━━━━━━━━━━━━━━━━━━━━━━━━━━━━━━\u001b[0m \u001b[32m44.3/44.3 kB\u001b[0m \u001b[31m1.9 MB/s\u001b[0m eta \u001b[36m0:00:00\u001b[0m\n",
            "\u001b[?25hRequirement already satisfied: gitpython!=3.1.19,<4,>=3.0.7 in /usr/local/lib/python3.11/dist-packages (from streamlit) (3.1.44)\n",
            "Collecting pydeck<1,>=0.8.0b4 (from streamlit)\n",
            "  Downloading pydeck-0.9.1-py2.py3-none-any.whl.metadata (4.1 kB)\n",
            "Requirement already satisfied: tornado<7,>=6.0.3 in /usr/local/lib/python3.11/dist-packages (from streamlit) (6.4.2)\n",
            "Requirement already satisfied: jinja2 in /usr/local/lib/python3.11/dist-packages (from altair<6,>=4.0->streamlit) (3.1.6)\n",
            "Requirement already satisfied: jsonschema>=3.0 in /usr/local/lib/python3.11/dist-packages (from altair<6,>=4.0->streamlit) (4.23.0)\n",
            "Requirement already satisfied: narwhals>=1.14.2 in /usr/local/lib/python3.11/dist-packages (from altair<6,>=4.0->streamlit) (1.40.0)\n",
            "Requirement already satisfied: gitdb<5,>=4.0.1 in /usr/local/lib/python3.11/dist-packages (from gitpython!=3.1.19,<4,>=3.0.7->streamlit) (4.0.12)\n",
            "Requirement already satisfied: python-dateutil>=2.8.2 in /usr/local/lib/python3.11/dist-packages (from pandas<3,>=1.4.0->streamlit) (2.9.0.post0)\n",
            "Requirement already satisfied: pytz>=2020.1 in /usr/local/lib/python3.11/dist-packages (from pandas<3,>=1.4.0->streamlit) (2025.2)\n",
            "Requirement already satisfied: tzdata>=2022.7 in /usr/local/lib/python3.11/dist-packages (from pandas<3,>=1.4.0->streamlit) (2025.2)\n",
            "Requirement already satisfied: charset-normalizer<4,>=2 in /usr/local/lib/python3.11/dist-packages (from requests<3,>=2.27->streamlit) (3.4.2)\n",
            "Requirement already satisfied: idna<4,>=2.5 in /usr/local/lib/python3.11/dist-packages (from requests<3,>=2.27->streamlit) (3.10)\n",
            "Requirement already satisfied: urllib3<3,>=1.21.1 in /usr/local/lib/python3.11/dist-packages (from requests<3,>=2.27->streamlit) (2.4.0)\n",
            "Requirement already satisfied: certifi>=2017.4.17 in /usr/local/lib/python3.11/dist-packages (from requests<3,>=2.27->streamlit) (2025.4.26)\n",
            "Requirement already satisfied: smmap<6,>=3.0.1 in /usr/local/lib/python3.11/dist-packages (from gitdb<5,>=4.0.1->gitpython!=3.1.19,<4,>=3.0.7->streamlit) (5.0.2)\n",
            "Requirement already satisfied: MarkupSafe>=2.0 in /usr/local/lib/python3.11/dist-packages (from jinja2->altair<6,>=4.0->streamlit) (3.0.2)\n",
            "Requirement already satisfied: attrs>=22.2.0 in /usr/local/lib/python3.11/dist-packages (from jsonschema>=3.0->altair<6,>=4.0->streamlit) (25.3.0)\n",
            "Requirement already satisfied: jsonschema-specifications>=2023.03.6 in /usr/local/lib/python3.11/dist-packages (from jsonschema>=3.0->altair<6,>=4.0->streamlit) (2025.4.1)\n",
            "Requirement already satisfied: referencing>=0.28.4 in /usr/local/lib/python3.11/dist-packages (from jsonschema>=3.0->altair<6,>=4.0->streamlit) (0.36.2)\n",
            "Requirement already satisfied: rpds-py>=0.7.1 in /usr/local/lib/python3.11/dist-packages (from jsonschema>=3.0->altair<6,>=4.0->streamlit) (0.25.1)\n",
            "Requirement already satisfied: six>=1.5 in /usr/local/lib/python3.11/dist-packages (from python-dateutil>=2.8.2->pandas<3,>=1.4.0->streamlit) (1.17.0)\n",
            "Downloading streamlit-1.45.1-py3-none-any.whl (9.9 MB)\n",
            "\u001b[2K   \u001b[90m━━━━━━━━━━━━━━━━━━━━━━━━━━━━━━━━━━━━━━━━\u001b[0m \u001b[32m9.9/9.9 MB\u001b[0m \u001b[31m61.4 MB/s\u001b[0m eta \u001b[36m0:00:00\u001b[0m\n",
            "\u001b[?25hDownloading pydeck-0.9.1-py2.py3-none-any.whl (6.9 MB)\n",
            "\u001b[2K   \u001b[90m━━━━━━━━━━━━━━━━━━━━━━━━━━━━━━━━━━━━━━━━\u001b[0m \u001b[32m6.9/6.9 MB\u001b[0m \u001b[31m71.6 MB/s\u001b[0m eta \u001b[36m0:00:00\u001b[0m\n",
            "\u001b[?25hDownloading watchdog-6.0.0-py3-none-manylinux2014_x86_64.whl (79 kB)\n",
            "\u001b[2K   \u001b[90m━━━━━━━━━━━━━━━━━━━━━━━━━━━━━━━━━━━━━━━━\u001b[0m \u001b[32m79.1/79.1 kB\u001b[0m \u001b[31m7.0 MB/s\u001b[0m eta \u001b[36m0:00:00\u001b[0m\n",
            "\u001b[?25hInstalling collected packages: watchdog, pydeck, streamlit\n",
            "Successfully installed pydeck-0.9.1 streamlit-1.45.1 watchdog-6.0.0\n"
          ]
        }
      ]
    },
    {
      "cell_type": "code",
      "execution_count": 2,
      "metadata": {
        "id": "_bSQA3LzRaVZ"
      },
      "outputs": [],
      "source": [
        "import streamlit as st\n",
        "import numpy as np\n",
        "import joblib\n",
        "import matplotlib.pyplot as plt"
      ]
    },
    {
      "cell_type": "code",
      "source": [
        "# Load trained model and label encoder\n",
        "model = joblib.load('ffnn_model.pkl')\n",
        "le = joblib.load('label_encoder.pkl')\n"
      ],
      "metadata": {
        "id": "SOeKefLKZTb9"
      },
      "execution_count": null,
      "outputs": []
    },
    {
      "cell_type": "code",
      "source": [
        "st.title(\"Postpartum Depression Risk Predictor\")\n",
        "st.header(\"About\", divider=\"gray\")\n",
        "st.markdown(\"\"\"\n",
        "# 🧠 Postpartum Depression Predictor\n",
        "\n",
        "This application is designed to **assess and predict the risk levels** of postpartum depression using a machine learning model trained on questionnaire responses and demographic inputs.\n",
        "\n",
        "It provides:\n",
        "- Insights into potential mental health conditions\n",
        "- Personalized risk categories: *Mild*, *Moderate*, *Severe*, or *Profound*\n",
        "- Supportive feedback based on the model’s prediction\n",
        "\n",
        "> ⚠️ **Disclaimer**: This tool is for informational and educational purposes only. It is **not a substitute for professional diagnosis or medical advice**. If you are experiencing symptoms, please consult a healthcare provider.\n",
        "\"\"\")"
      ],
      "metadata": {
        "id": "lgp0A55jRj2C"
      },
      "execution_count": null,
      "outputs": []
    },
    {
      "cell_type": "code",
      "source": [
        "Age=st.slider(\"Age\",18,45,25)\n",
        "st.selectbox(\"Are you currently pregnant\",[\"select..\",\"Yes\",\"No\"])\n",
        "st.selectbox(\"Have you given birth recently\",[\"select..\",\"Yes\",\"No\"])\n"
      ],
      "metadata": {
        "id": "tzju2dwYeCqR"
      },
      "execution_count": null,
      "outputs": []
    },
    {
      "cell_type": "code",
      "source": [
        "FamilySupport=st.selectbox(\"Dou you have Family support\",[\"Low\",\"Medium\",\"High\"])"
      ],
      "metadata": {
        "id": "bzykZIvbl2YN"
      },
      "execution_count": null,
      "outputs": []
    },
    {
      "cell_type": "code",
      "source": [
        "Q1_response={\"As much as I always could\":0,\n",
        "             \"Not quite so much now\":1,\n",
        "             \"Definitely not so much now\":2,\n",
        "             \"Not at all\":3}\n",
        "Q2_response={\"As much as I ever did\":0,\n",
        "             \"Rather less than I used to\":1,\n",
        "             \"Definitely less than I used to\":2,\n",
        "             \"Hardly at all\":3}\n",
        "Q3_response={\"Yes, most of the time\":3,\n",
        "             \"Yes, some of the time\":2,\n",
        "             \"Not very often\":1,\n",
        "             \"No, never\":0}\n",
        "Q4_response={\"No, not at all\":0,\n",
        "             \"Hardly ever\":1,\n",
        "             \"Yes, sometimes\":2,\n",
        "             \"Yes, very often\":3}\n",
        "Q5_response={\"Yes, quite a lot\":3,\n",
        "             \"Yes, sometimes\":2,\n",
        "             \"No, not much\":1,\n",
        "             \"No, not at all\":0}\n",
        "Q6_response={\"Yes, most of the time I haven't been able to cope at all\":3,\n",
        "             \"Yes, sometimes I haven't been coping as well as usual\":2,\n",
        "             \"No, most of the time I have coped quite well\":1,\n",
        "             \"No, I have been coping as well as ever\":0}\n",
        "Q7_response={\"Yes, most of the time\":3,\n",
        "             \"Yes, sometimes\":2,\n",
        "             \"Not very often\":1,\n",
        "             \"No, not at all\":0}\n",
        "Q8_response={\"Yes, most of the time\":3,\n",
        "             \"Yes, quite often\":2,\n",
        "             \"Not very often\":1,\n",
        "             \"No, not at all\":0}\n",
        "Q9_response={\"Yes, most of the time\":3,\n",
        "             \"Yes, quite often\":2,\n",
        "             \"Only occasionally\":1,\n",
        "             \"No, never\":0}\n",
        "Q10_response={\"Yes, quite often\":3,\n",
        "              \"Sometimes\":2,\n",
        "              \"Hardly ever\":1,\n",
        "              \"Never\":0}\n",
        "\n",
        "\n",
        "Q1=st.selectbox(\"1. I have been able to laugh and see the funny side of things.\",list(Q1_response.keys()))\n",
        "Q2=st.selectbox(\"2. I have looked forward with enjoyment to things\",list(Q2_response.keys()))\n",
        "Q3=st.selectbox(\"3. I have blamed myself unnecessarily when things went wrong\",list(Q3_response.keys()))\n",
        "Q4=st.selectbox(\"4. I have been anxious or worried for no good reason\",list(Q4_response.keys()))\n",
        "Q5=st.selectbox(\"5. I have felt scared or panicky for no very good reason\",list(Q5_response.keys()))\n",
        "Q6=st.selectbox(\"6. Things have been getting on top of me\",list(Q6_response.keys()))\n",
        "Q7=st.selectbox(\"7. I have been so unhappy that I have had difficulty sleeping\",list(Q7_response.keys()))\n",
        "Q8=st.selectbox(\"8. I have felt sad or miserable\",list(Q8_response.keys()))\n",
        "Q9=st.selectbox(\"9, I have been so unhappy that I have been crying\",list(Q9_response.keys()))\n",
        "Q10=st.selectbox(\"10. The thought of harming myself has occurred to me\",list(Q10_response.keys()))\n",
        "\n",
        "q1_val = Q1_response[Q1]\n",
        "q2_val = Q2_response[Q2]\n",
        "q3_val = Q3_response[Q3]\n",
        "q4_val = Q4_response[Q4]\n",
        "q5_val = Q5_response[Q5]\n",
        "q6_val = Q6_response[Q6]\n",
        "q7_val = Q7_response[Q7]\n",
        "q8_val = Q8_response[Q8]\n",
        "q9_val = Q9_response[Q9]\n",
        "q10_val = Q10_response[Q10]\n",
        "\n",
        "\n",
        "input_data = pd.DataFrame([{\n",
        "    \"Age\": Age,\n",
        "    \"FamilySupport\": FamilySupport,\n",
        "    \"Q1\": q1_val,\n",
        "    \"Q2\": q2_val,\n",
        "    \"Q3\": q3_val,\n",
        "    \"Q4\": q4_val,\n",
        "    \"Q5\": q5_val,\n",
        "    \"Q6\": q6_val,\n",
        "    \"Q7\": q7_val,\n",
        "    \"Q8\": q8_val,\n",
        "    \"Q9\": q9_val,\n",
        "    \"Q10\": q10_val,\n",
        "}])"
      ],
      "metadata": {
        "id": "GFE6OVJefM7R"
      },
      "execution_count": null,
      "outputs": []
    },
    {
      "cell_type": "code",
      "source": [
        "prediction_encoded = model.predict(input_data)[0]\n",
        "prediction_label = label_encoder.inverse_transform([prediction_encoded])[0]\n",
        "\n",
        "st.success(f\" Predicted Postpartum Depression Risk: **{prediction_label}**\")"
      ],
      "metadata": {
        "id": "uQr06VAglLP5"
      },
      "execution_count": null,
      "outputs": []
    },
    {
      "cell_type": "code",
      "source": [
        "import matplotlib.pyplot as plt\n",
        "\n",
        "fig, ax = plt.subplots()\n",
        "ax.bar([\"Risk\"], [prediction_encoded], color='salmon')\n",
        "ax.set_ylim([0, 3])\n",
        "ax.set_ylabel(\"Risk Level (0: Mild to 3: Profound)\")\n",
        "st.pyplot(fig)"
      ],
      "metadata": {
        "id": "7Kj_CAfqnr8R"
      },
      "execution_count": null,
      "outputs": []
    }
  ]
}